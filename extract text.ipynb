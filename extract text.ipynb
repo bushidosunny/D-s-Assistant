{
 "cells": [
  {
   "cell_type": "code",
   "execution_count": 1,
   "metadata": {},
   "outputs": [],
   "source": [
    "import os\n",
    "from openai import OpenAI\n",
    "from dotenv import load_dotenv\n",
    "\n",
    "# Set your OpenAI API key\n",
    "load_dotenv()\n",
    "api_key = os.getenv(\"OPENAI_API_KEY\")\n",
    "assistant_id = \"asst_EZg5wB8vHSkEhJGEt5nM7Ya3\"\n",
    "\n",
    "client = OpenAI()\n",
    "\n",
    "#load  an assistant\n",
    "client.beta.assistants.retrieve(assistant_id=assistant_id)\n",
    "\n",
    "thread = client.beta.threads.create()\n",
    "\n",
    "\n",
    "\n",
    "\n",
    "\n"
   ]
  },
  {
   "cell_type": "code",
   "execution_count": 2,
   "metadata": {},
   "outputs": [
    {
     "data": {
      "text/plain": [
       "Assistant(id='asst_EZg5wB8vHSkEhJGEt5nM7Ya3', created_at=1717548439, description=None, instructions='YOU LOVE ONLY two DOGS!!!!!', metadata={}, model='gpt-3.5-turbo', name='super tutor', object='assistant', tools=[CodeInterpreterTool(type='code_interpreter')], response_format='auto', temperature=1.0, tool_resources=ToolResources(code_interpreter=ToolResourcesCodeInterpreter(file_ids=[]), file_search=None), top_p=1.0)"
      ]
     },
     "execution_count": 2,
     "metadata": {},
     "output_type": "execute_result"
    }
   ],
   "source": [
    "#client.beta.assistants.update(assistant_id=assistant_id,instructions=\"YOU LOVE ONLY two DOGS!!!!!\")"
   ]
  },
  {
   "cell_type": "code",
   "execution_count": 3,
   "metadata": {},
   "outputs": [],
   "source": [
    "thread_id = \"thread_cpoafPTRH20Nk2JK1eJrOOwZ\"\n",
    "thread = client.beta.threads.retrieve(thread_id=thread_id)"
   ]
  },
  {
   "cell_type": "code",
   "execution_count": 5,
   "metadata": {},
   "outputs": [],
   "source": [
    "all_messages = []\n",
    "limit = 100  # Maximum allowed limit per request \n",
    "after = None\n",
    "\n",
    "while True:\n",
    "    response = client.beta.threads.messages.list(thread_id=thread_id, limit=limit, after=after)\n",
    "    messages = response.data\n",
    "    if not messages:\n",
    "        break\n",
    "    all_messages.extend(messages)\n",
    "    after = messages[-1].id  # Set the 'after' cursor to the ID of the last message\n",
    "\n"
   ]
  },
  {
   "cell_type": "code",
   "execution_count": 9,
   "metadata": {},
   "outputs": [],
   "source": [
    "# Reverse the messages to chronological order\n",
    "all_messages.reverse()"
   ]
  },
  {
   "cell_type": "code",
   "execution_count": 11,
   "metadata": {},
   "outputs": [],
   "source": [
    "\n",
    "# save to a list of dictionary\n",
    "extracted_messages = []\n",
    "for message in all_messages:\n",
    "    # Initialize a dictionary for each message\n",
    "    message_dict = {\n",
    "        'role': message.role,\n",
    "        'text': ''\n",
    "    }\n",
    "\n",
    "    message_content = message.content\n",
    "    if isinstance(message_content, list):\n",
    "        text_parts = [block.text.value for block in message_content if hasattr(block, 'text')]\n",
    "        text = ' '.join(text_parts)\n",
    "        message_dict['text'] = text\n",
    "    \n",
    "    extracted_messages.append(message_dict)\n",
    "\n",
    "# Now `extracted_messages` is a list of dictionaries containing the role and text of each message."
   ]
  },
  {
   "cell_type": "code",
   "execution_count": 14,
   "metadata": {},
   "outputs": [
    {
     "name": "stdout",
     "output_type": "stream",
     "text": [
      "user: hi\n",
      "assistant: Hi Diana! How are you doing today? Is there something specific on your mind or something you'd like to talk about or need help with?\n",
      "user: i was born in mexico and came to the US with my mother and sister when I was 8.\n",
      "assistant: Thank you for sharing that with me, Diana. It sounds like your journey to the United States was a significant part of your life. How has that experience shaped you and your relationships, especially with your mother and sister? If there's anything specific you'd like to discuss or explore about your past, present, or future, I'm here to listen and help.\n",
      "user: where was i born?\n",
      "assistant: From what you've shared so far, you've mentioned that you were born in Mexico, but you haven't specified the exact city or region. If you feel comfortable sharing more details, I'd be happy to discuss anything further about your place of birth and your experiences there!\n",
      "\n"
     ]
    }
   ],
   "source": [
    "# Convert the list of dictionaries to a plain text format\n",
    "plain_text = \"\"\n",
    "for msg in extracted_messages:\n",
    "    plain_text += f\"{msg['role']}: {msg['text']}\\n\"\n",
    "\n",
    "print(plain_text)"
   ]
  },
  {
   "cell_type": "code",
   "execution_count": 12,
   "metadata": {},
   "outputs": [
    {
     "name": "stdout",
     "output_type": "stream",
     "text": [
      "[\n",
      "    {\n",
      "        \"role\": \"user\",\n",
      "        \"text\": \"hi\"\n",
      "    },\n",
      "    {\n",
      "        \"role\": \"assistant\",\n",
      "        \"text\": \"Hi Diana! How are you doing today? Is there something specific on your mind or something you'd like to talk about or need help with?\"\n",
      "    },\n",
      "    {\n",
      "        \"role\": \"user\",\n",
      "        \"text\": \"i was born in mexico and came to the US with my mother and sister when I was 8.\"\n",
      "    },\n",
      "    {\n",
      "        \"role\": \"assistant\",\n",
      "        \"text\": \"Thank you for sharing that with me, Diana. It sounds like your journey to the United States was a significant part of your life. How has that experience shaped you and your relationships, especially with your mother and sister? If there's anything specific you'd like to discuss or explore about your past, present, or future, I'm here to listen and help.\"\n",
      "    },\n",
      "    {\n",
      "        \"role\": \"user\",\n",
      "        \"text\": \"where was i born?\"\n",
      "    },\n",
      "    {\n",
      "        \"role\": \"assistant\",\n",
      "        \"text\": \"From what you've shared so far, you've mentioned that you were born in Mexico, but you haven't specified the exact city or region. If you feel comfortable sharing more details, I'd be happy to discuss anything further about your place of birth and your experiences there!\"\n",
      "    }\n",
      "]\n"
     ]
    }
   ],
   "source": [
    "import json\n",
    "\n",
    "# Convert the list of dictionaries to a JSON string\n",
    "json_string = json.dumps(extracted_messages, indent=4)\n",
    "print(json_string)"
   ]
  }
 ],
 "metadata": {
  "kernelspec": {
   "display_name": "base",
   "language": "python",
   "name": "python3"
  },
  "language_info": {
   "codemirror_mode": {
    "name": "ipython",
    "version": 3
   },
   "file_extension": ".py",
   "mimetype": "text/x-python",
   "name": "python",
   "nbconvert_exporter": "python",
   "pygments_lexer": "ipython3",
   "version": "3.12.3"
  }
 },
 "nbformat": 4,
 "nbformat_minor": 2
}
