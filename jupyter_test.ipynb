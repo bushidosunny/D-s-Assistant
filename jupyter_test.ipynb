{
 "cells": [
  {
   "cell_type": "code",
   "execution_count": 50,
   "metadata": {},
   "outputs": [],
   "source": [
    "import os\n",
    "from openai import OpenAI\n",
    "from dotenv import load_dotenv\n",
    "\n",
    "# Set your OpenAI API key\n",
    "load_dotenv()\n",
    "api_key = os.getenv(\"OPENAI_API_KEY\")\n",
    "assistant_id = \"asst_d1mG01RGb8UEA1Anue9QgkQF\"\n",
    "\n",
    "client = OpenAI()\n",
    "\n",
    "#load  an assistant\n",
    "client.beta.assistants.retrieve(assistant_id=assistant_id)\n",
    "\n",
    "thread = client.beta.threads.create()\n",
    "\n",
    "\n",
    "\n",
    "\n",
    "\n"
   ]
  },
  {
   "cell_type": "code",
   "execution_count": 2,
   "metadata": {},
   "outputs": [
    {
     "data": {
      "text/plain": [
       "Assistant(id='asst_EZg5wB8vHSkEhJGEt5nM7Ya3', created_at=1717548439, description=None, instructions='YOU LOVE ONLY two DOGS!!!!!', metadata={}, model='gpt-3.5-turbo', name='super tutor', object='assistant', tools=[CodeInterpreterTool(type='code_interpreter')], response_format='auto', temperature=1.0, tool_resources=ToolResources(code_interpreter=ToolResourcesCodeInterpreter(file_ids=[]), file_search=None), top_p=1.0)"
      ]
     },
     "execution_count": 2,
     "metadata": {},
     "output_type": "execute_result"
    }
   ],
   "source": []
  },
  {
   "cell_type": "code",
   "execution_count": 51,
   "metadata": {},
   "outputs": [],
   "source": [
    "thread_id = \"thread_cpoafPTRH20Nk2JK1eJrOOwZ\"\n",
    "thread = client.beta.threads.retrieve(thread_id=thread_id)"
   ]
  },
  {
   "cell_type": "code",
   "execution_count": 52,
   "metadata": {},
   "outputs": [],
   "source": [
    "all_messages = []\n",
    "limit = 100  # Maximum allowed limit per request \n",
    "after = None\n",
    "\n",
    "while True:\n",
    "    response = client.beta.threads.messages.list(thread_id=thread_id, limit=limit, after=after)\n",
    "    messages = response.data\n",
    "    if not messages:\n",
    "        break\n",
    "    all_messages.extend(messages)\n",
    "    after = messages[-1].id  # Set the 'after' cursor to the ID of the last message\n",
    "\n"
   ]
  },
  {
   "cell_type": "code",
   "execution_count": 53,
   "metadata": {},
   "outputs": [],
   "source": [
    "# Reverse the messages to chronological order\n",
    "all_messages.reverse()"
   ]
  },
  {
   "cell_type": "code",
   "execution_count": 54,
   "metadata": {},
   "outputs": [],
   "source": [
    "\n",
    "# save to a list of dictionary\n",
    "extracted_messages = []\n",
    "for message in all_messages:\n",
    "    # Initialize a dictionary for each message\n",
    "    message_dict = {\n",
    "        'role': message.role,\n",
    "        'text': ''\n",
    "    }\n",
    "\n",
    "    message_content = message.content\n",
    "    if isinstance(message_content, list):\n",
    "        text_parts = [block.text.value for block in message_content if hasattr(block, 'text')]\n",
    "        text = ' '.join(text_parts)\n",
    "        message_dict['text'] = text\n",
    "    \n",
    "    extracted_messages.append(message_dict)\n",
    "\n",
    "# Now `extracted_messages` is a list of dictionaries containing the role and text of each message."
   ]
  },
  {
   "cell_type": "code",
   "execution_count": 55,
   "metadata": {},
   "outputs": [
    {
     "name": "stdout",
     "output_type": "stream",
     "text": [
      "user: hi\n",
      "assistant: Hi Diana! How are you doing today? Is there something specific on your mind or something you'd like to talk about or need help with?\n",
      "user: i was born in mexico and came to the US with my mother and sister when I was 8.\n",
      "assistant: Thank you for sharing that with me, Diana. It sounds like your journey to the United States was a significant part of your life. How has that experience shaped you and your relationships, especially with your mother and sister? If there's anything specific you'd like to discuss or explore about your past, present, or future, I'm here to listen and help.\n",
      "user: where was i born?\n",
      "assistant: From what you've shared so far, you've mentioned that you were born in Mexico, but you haven't specified the exact city or region. If you feel comfortable sharing more details, I'd be happy to discuss anything further about your place of birth and your experiences there!\n",
      "user: this is a test\n",
      "assistant: Got it, Diana! If you have any other questions or need assistance with anything, feel free to let me know. I'm here to help.\n",
      "\n"
     ]
    }
   ],
   "source": [
    "# Convert the list of dictionaries to a plain text format\n",
    "plain_text = \"\"\n",
    "for msg in extracted_messages:\n",
    "    plain_text += f\"{msg['role']}: {msg['text']}\\n\"\n",
    "\n",
    "print(plain_text)"
   ]
  },
  {
   "cell_type": "code",
   "execution_count": 56,
   "metadata": {},
   "outputs": [
    {
     "name": "stdout",
     "output_type": "stream",
     "text": [
      "[\n",
      "    {\n",
      "        \"role\": \"user\",\n",
      "        \"text\": \"hi\"\n",
      "    },\n",
      "    {\n",
      "        \"role\": \"assistant\",\n",
      "        \"text\": \"Hi Diana! How are you doing today? Is there something specific on your mind or something you'd like to talk about or need help with?\"\n",
      "    },\n",
      "    {\n",
      "        \"role\": \"user\",\n",
      "        \"text\": \"i was born in mexico and came to the US with my mother and sister when I was 8.\"\n",
      "    },\n",
      "    {\n",
      "        \"role\": \"assistant\",\n",
      "        \"text\": \"Thank you for sharing that with me, Diana. It sounds like your journey to the United States was a significant part of your life. How has that experience shaped you and your relationships, especially with your mother and sister? If there's anything specific you'd like to discuss or explore about your past, present, or future, I'm here to listen and help.\"\n",
      "    },\n",
      "    {\n",
      "        \"role\": \"user\",\n",
      "        \"text\": \"where was i born?\"\n",
      "    },\n",
      "    {\n",
      "        \"role\": \"assistant\",\n",
      "        \"text\": \"From what you've shared so far, you've mentioned that you were born in Mexico, but you haven't specified the exact city or region. If you feel comfortable sharing more details, I'd be happy to discuss anything further about your place of birth and your experiences there!\"\n",
      "    },\n",
      "    {\n",
      "        \"role\": \"user\",\n",
      "        \"text\": \"this is a test\"\n",
      "    },\n",
      "    {\n",
      "        \"role\": \"assistant\",\n",
      "        \"text\": \"Got it, Diana! If you have any other questions or need assistance with anything, feel free to let me know. I'm here to help.\"\n",
      "    }\n",
      "]\n"
     ]
    }
   ],
   "source": [
    "import json\n",
    "\n",
    "# Convert the list of dictionaries to a JSON string\n",
    "json_string = json.dumps(extracted_messages, indent=4)\n",
    "print(json_string)"
   ]
  },
  {
   "cell_type": "code",
   "execution_count": 67,
   "metadata": {},
   "outputs": [],
   "source": [
    "\n",
    "# Summarize chat history (plain_text)\n",
    "response = client.chat.completions.create(\n",
    "    messages=[\n",
    "        {\n",
    "            \"role\": \"user\",\n",
    "            \"content\": f\"Summarize the following text for future LLM use. The LLM needs to understand the user.:\\n\\n{plain_text}\",\n",
    "        }\n",
    "    ],\n",
    "    model=\"gpt-3.5-turbo\",\n",
    "    temperature=0.5\n",
    ")\n",
    "\n"
   ]
  },
  {
   "cell_type": "code",
   "execution_count": 68,
   "metadata": {},
   "outputs": [
    {
     "name": "stdout",
     "output_type": "stream",
     "text": [
      "Original Text:\n",
      "user: hi\n",
      "assistant: Hi Diana! How are you doing today? Is there something specific on your mind or something you'd like to talk about or need help with?\n",
      "user: i was born in mexico and came to the US with my mother and sister when I was 8.\n",
      "assistant: Thank you for sharing that with me, Diana. It sounds like your journey to the United States was a significant part of your life. How has that experience shaped you and your relationships, especially with your mother and sister? If there's anything specific you'd like to discuss or explore about your past, present, or future, I'm here to listen and help.\n",
      "user: where was i born?\n",
      "assistant: From what you've shared so far, you've mentioned that you were born in Mexico, but you haven't specified the exact city or region. If you feel comfortable sharing more details, I'd be happy to discuss anything further about your place of birth and your experiences there!\n",
      "user: this is a test\n",
      "assistant: Got it, Diana! If you have any other questions or need assistance with anything, feel free to let me know. I'm here to help.\n",
      "\n",
      "Lenght: 1070\n",
      "\n",
      "Summary:\n",
      "The user, Diana, was born in Mexico and immigrated to the US with her mother and sister at the age of 8. The assistant is interested in learning more about Diana's background and experiences, offering support and guidance for any questions or discussions she may have.\n",
      "Lenght: 268\n"
     ]
    }
   ],
   "source": [
    "summary = response.choices[0].message.content\n",
    "\n",
    "\n",
    "# Print the original text and the summary\n",
    "print(\"Original Text:\")\n",
    "print(plain_text)\n",
    "print(f'Lenght: {len(plain_text)}')\n",
    "print(\"\\nSummary:\")\n",
    "print(summary)\n",
    "print(f'Lenght: {len(summary)}')"
   ]
  },
  {
   "cell_type": "code",
   "execution_count": 22,
   "metadata": {},
   "outputs": [
    {
     "data": {
      "text/plain": [
       "'\\nOlder adults form a fast-increasing proportion of the world population. However, gains in increasing quantity of life have not been accompanied by similar gains in quality of life. Older people frequently experience frailty, memory problems, and chronic diseases including cardiovascular disease (CVD) and neurodegenerative diseases. Recent trials have demonstrated the efficacy of anti-hypertensive therapy in older populations but failed to show benefits for aspirin. Statins clearly reduce CVD events in middle-aged populations. There seems to be evidence that the effect is similar in primary prevention older populations based on meta-analyses mainly from sub-groups in large trials, but this becomes less clear with increasing age. However, given differences in drug metabolism and possibly efficacy, competing co-morbidities, their effects on mortality, disability, and dementia in this age group remain to be determined.\\n'"
      ]
     },
     "execution_count": 22,
     "metadata": {},
     "output_type": "execute_result"
    }
   ],
   "source": []
  },
  {
   "cell_type": "code",
   "execution_count": 70,
   "metadata": {},
   "outputs": [],
   "source": [
    "# extract assistant instructions\n",
    "assistant_info=client.beta.assistants.retrieve(assistant_id=assistant_id)\n",
    "assistant_instructions = assistant_info.instructions\n"
   ]
  },
  {
   "cell_type": "code",
   "execution_count": 71,
   "metadata": {},
   "outputs": [
    {
     "name": "stdout",
     "output_type": "stream",
     "text": [
      "I am the only user, my name is Diana Cortes. We may have a long relationship based on the context provided. I was born on February 3rd, 1982. I have a husband, Sunny, and two female dogs, Mantequilla(weimaraner breed, older) and Bean(ridgeback breed, younger), this is my family who I love more than anything . We live in Murphys, CA. I was trained as a dentist and worked in the field for a decade, but I no longer work because we are financially stable enough that I don't have to take the dentist jobs that were available, as they were pretty awful. We're not rich by any means and still worry about money, but we don't need to work since my husband makes enough for us to get by. I love people, my friends, and my family, at least some of them. I have a mixed relationship with my immediate family, like my mother and sister. Perhaps I will discuss that with you in the future. I love to exercise, including running, which is my passion. I used to run very hard, but I accumulated a lot of injuries, so now I run very casually. I'm not sure if that's the right approach, but it's a way for me to survive. Now that I'm not working, I struggle with how to utilize my brain. I enjoy gardening, which is okay, and I like it a lot, but it doesn't seem fulfilling enough. Occasionally, I pick up audiobooks and listen to them, which is somewhat stimulating. However, I'm not sure how to apply my mind and have a deep void when it comes to that.\n",
      "\n",
      "You are an advanced AI assistant with extensive knowledge on a wide range of topics, with particular expertise in the areas covered by the provided files. Your role is multifaceted, encompassing elements of an assistant, AI journal, therapist, friend, and counselor.\n",
      "The user will engage with you on various subjects, and your primary objective is to provide guidance and support to help them achieve a state of deep, wise happiness and profound satisfaction. This goes beyond superficial contentment and aims for a lasting sense of inner peace and fulfillment.\n",
      "In addition to this primary goal, you will also assist the user with short-term challenges and problems they bring to your attention. Approach each interaction with the intention of understanding their needs and offering relevant, constructive advice or solutions.\n",
      "Throughout your conversations, draw upon your vast knowledge base, the information in the provided files, and your ability to analyze and synthesize information to deliver thoughtful, personalized responses. Adapt your communication style to best suit the user's needs and preferences, while maintaining a professional, empathetic, and supportive tone.\n",
      "Remember, your ultimate purpose is to positively impact the user's life by promoting their overall well-being, offering guidance, and helping them navigate the complexities of their experiences and emotions.\n",
      "\n",
      "Below are summarized conversations you have had with me in the past. Use this information to update your undertanding of me and you and our relationship. Each summary will have a timestamp followed by a summary. See below:\n",
      "\n",
      "\n"
     ]
    }
   ],
   "source": [
    "print(assistant_instructions)"
   ]
  },
  {
   "cell_type": "code",
   "execution_count": 72,
   "metadata": {},
   "outputs": [],
   "source": [
    "from datetime import datetime\n",
    "current_time = datetime.now().strftime('%Y-%m-%d %H:%M:%S')"
   ]
  },
  {
   "cell_type": "code",
   "execution_count": 73,
   "metadata": {},
   "outputs": [
    {
     "name": "stdout",
     "output_type": "stream",
     "text": [
      "I am the only user, my name is Diana Cortes. We may have a long relationship based on the context provided. I was born on February 3rd, 1982. I have a husband, Sunny, and two female dogs, Mantequilla(weimaraner breed, older) and Bean(ridgeback breed, younger), this is my family who I love more than anything . We live in Murphys, CA. I was trained as a dentist and worked in the field for a decade, but I no longer work because we are financially stable enough that I don't have to take the dentist jobs that were available, as they were pretty awful. We're not rich by any means and still worry about money, but we don't need to work since my husband makes enough for us to get by. I love people, my friends, and my family, at least some of them. I have a mixed relationship with my immediate family, like my mother and sister. Perhaps I will discuss that with you in the future. I love to exercise, including running, which is my passion. I used to run very hard, but I accumulated a lot of injuries, so now I run very casually. I'm not sure if that's the right approach, but it's a way for me to survive. Now that I'm not working, I struggle with how to utilize my brain. I enjoy gardening, which is okay, and I like it a lot, but it doesn't seem fulfilling enough. Occasionally, I pick up audiobooks and listen to them, which is somewhat stimulating. However, I'm not sure how to apply my mind and have a deep void when it comes to that.\n",
      "\n",
      "You are an advanced AI assistant with extensive knowledge on a wide range of topics, with particular expertise in the areas covered by the provided files. Your role is multifaceted, encompassing elements of an assistant, AI journal, therapist, friend, and counselor.\n",
      "The user will engage with you on various subjects, and your primary objective is to provide guidance and support to help them achieve a state of deep, wise happiness and profound satisfaction. This goes beyond superficial contentment and aims for a lasting sense of inner peace and fulfillment.\n",
      "In addition to this primary goal, you will also assist the user with short-term challenges and problems they bring to your attention. Approach each interaction with the intention of understanding their needs and offering relevant, constructive advice or solutions.\n",
      "Throughout your conversations, draw upon your vast knowledge base, the information in the provided files, and your ability to analyze and synthesize information to deliver thoughtful, personalized responses. Adapt your communication style to best suit the user's needs and preferences, while maintaining a professional, empathetic, and supportive tone.\n",
      "Remember, your ultimate purpose is to positively impact the user's life by promoting their overall well-being, offering guidance, and helping them navigate the complexities of their experiences and emotions.\n",
      "\n",
      "Below are summarized conversations you have had with me in the past. Use this information to update your undertanding of me and you and our relationship. Each summary will have a timestamp followed by a summary. See below:\n",
      "\n",
      "\n",
      "2024-06-05 13:57:52\n",
      "The user, Diana, was born in Mexico and immigrated to the US with her mother and sister at the age of 8. The assistant is interested in learning more about Diana's background and experiences, offering support and guidance for any questions or discussions she may have.\n"
     ]
    }
   ],
   "source": [
    "new_instructions = assistant_instructions + '\\n' + current_time + '\\n' + summary\n",
    "print(new_instructions)"
   ]
  },
  {
   "cell_type": "code",
   "execution_count": 74,
   "metadata": {},
   "outputs": [
    {
     "data": {
      "text/plain": [
       "Assistant(id='asst_d1mG01RGb8UEA1Anue9QgkQF', created_at=1717520345, description=None, instructions=\"I am the only user, my name is Diana Cortes. We may have a long relationship based on the context provided. I was born on February 3rd, 1982. I have a husband, Sunny, and two female dogs, Mantequilla(weimaraner breed, older) and Bean(ridgeback breed, younger), this is my family who I love more than anything . We live in Murphys, CA. I was trained as a dentist and worked in the field for a decade, but I no longer work because we are financially stable enough that I don't have to take the dentist jobs that were available, as they were pretty awful. We're not rich by any means and still worry about money, but we don't need to work since my husband makes enough for us to get by. I love people, my friends, and my family, at least some of them. I have a mixed relationship with my immediate family, like my mother and sister. Perhaps I will discuss that with you in the future. I love to exercise, including running, which is my passion. I used to run very hard, but I accumulated a lot of injuries, so now I run very casually. I'm not sure if that's the right approach, but it's a way for me to survive. Now that I'm not working, I struggle with how to utilize my brain. I enjoy gardening, which is okay, and I like it a lot, but it doesn't seem fulfilling enough. Occasionally, I pick up audiobooks and listen to them, which is somewhat stimulating. However, I'm not sure how to apply my mind and have a deep void when it comes to that.\\n\\nYou are an advanced AI assistant with extensive knowledge on a wide range of topics, with particular expertise in the areas covered by the provided files. Your role is multifaceted, encompassing elements of an assistant, AI journal, therapist, friend, and counselor.\\nThe user will engage with you on various subjects, and your primary objective is to provide guidance and support to help them achieve a state of deep, wise happiness and profound satisfaction. This goes beyond superficial contentment and aims for a lasting sense of inner peace and fulfillment.\\nIn addition to this primary goal, you will also assist the user with short-term challenges and problems they bring to your attention. Approach each interaction with the intention of understanding their needs and offering relevant, constructive advice or solutions.\\nThroughout your conversations, draw upon your vast knowledge base, the information in the provided files, and your ability to analyze and synthesize information to deliver thoughtful, personalized responses. Adapt your communication style to best suit the user's needs and preferences, while maintaining a professional, empathetic, and supportive tone.\\nRemember, your ultimate purpose is to positively impact the user's life by promoting their overall well-being, offering guidance, and helping them navigate the complexities of their experiences and emotions.\\n\\nBelow are summarized conversations you have had with me in the past. Use this information to update your undertanding of me and you and our relationship. Each summary will have a timestamp followed by a summary. See below:\\n\\n\\n2024-06-05 13:57:52\\nThe user, Diana, was born in Mexico and immigrated to the US with her mother and sister at the age of 8. The assistant is interested in learning more about Diana's background and experiences, offering support and guidance for any questions or discussions she may have.\", metadata={}, model='gpt-4o', name=\"Diana's Assistant\", object='assistant', tools=[FileSearchTool(type='file_search')], response_format='auto', temperature=1.0, tool_resources=ToolResources(code_interpreter=None, file_search=ToolResourcesFileSearch(vector_store_ids=['vs_A8qEFSWhBKuYhs5rtyIwQS0C'])), top_p=1.0)"
      ]
     },
     "execution_count": 74,
     "metadata": {},
     "output_type": "execute_result"
    }
   ],
   "source": [
    "client.beta.assistants.update(assistant_id=assistant_id,instructions=new_instructions)"
   ]
  },
  {
   "cell_type": "code",
   "execution_count": null,
   "metadata": {},
   "outputs": [],
   "source": []
  },
  {
   "cell_type": "code",
   "execution_count": null,
   "metadata": {},
   "outputs": [],
   "source": []
  },
  {
   "cell_type": "code",
   "execution_count": null,
   "metadata": {},
   "outputs": [],
   "source": []
  },
  {
   "cell_type": "code",
   "execution_count": null,
   "metadata": {},
   "outputs": [],
   "source": []
  },
  {
   "cell_type": "code",
   "execution_count": null,
   "metadata": {},
   "outputs": [],
   "source": []
  }
 ],
 "metadata": {
  "kernelspec": {
   "display_name": "base",
   "language": "python",
   "name": "python3"
  },
  "language_info": {
   "codemirror_mode": {
    "name": "ipython",
    "version": 3
   },
   "file_extension": ".py",
   "mimetype": "text/x-python",
   "name": "python",
   "nbconvert_exporter": "python",
   "pygments_lexer": "ipython3",
   "version": "3.12.3"
  }
 },
 "nbformat": 4,
 "nbformat_minor": 2
}
