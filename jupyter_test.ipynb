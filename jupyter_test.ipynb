{
 "cells": [
  {
   "cell_type": "code",
   "execution_count": 7,
   "metadata": {},
   "outputs": [],
   "source": [
    "import os\n",
    "\n",
    "import streamlit as st\n",
    "from dotenv import load_dotenv\n",
    "from openai import OpenAI\n",
    "\n",
    "from langchain_core.messages import HumanMessage, AIMessage"
   ]
  },
  {
   "cell_type": "code",
   "execution_count": 8,
   "metadata": {},
   "outputs": [],
   "source": [
    "\n",
    "\n",
    "# Load environment variables\n",
    "load_dotenv()\n",
    "api_key = os.getenv(\"OPENAI_API_KEY\")\n",
    "if not api_key:\n",
    "    st.error(\"API Key not found! Please check your environment variables.\")\n",
    "\n",
    "client = OpenAI(api_key=api_key)\n",
    "\n",
    "# Avatar URLs\n",
    "user_avatar_url = \"https://api.dicebear.com/8.x/pixel-art/svg?seed=Simon&beardProbability=0&eyesColor=876658&glassesProbability=0&hairColor=28150a&skinColor=cb9e6e\"\n",
    "\n",
    "specialist_id_caption = {\n",
    "    \"Diana's assistant\": {\n",
    "        \"assistant_id\": \"asst_d1mG01RGb8UEA1Anue9QgkQF\",\n",
    "        \"caption\": \"role is multifaceted, encompassing elements of an assistant, AI journal, therapist, friend, and counselor.\",\n",
    "        \"avatar\": \"https://api.dicebear.com/8.x/bottts/svg?seed=Lucky\"\n",
    "    },\n",
    "    \"Mindfulness Teacher\": {\n",
    "        \"assistant_id\": \"asst_bnFm27eqedaYK9Ulekh8Yjd9\",\n",
    "        \"caption\": \"Goes Deep\",\n",
    "        \"avatar\": \"https://cdn.pixabay.com/photo/2013/07/12/19/30/enlightenment-154910_1280.png\"\n",
    "    }\n",
    "}"
   ]
  },
  {
   "cell_type": "code",
   "execution_count": 9,
   "metadata": {},
   "outputs": [],
   "source": [
    "def initialize_session_state():\n",
    "    primary_specialist = list(specialist_id_caption.keys())[0]\n",
    "    primary_specialist_id = specialist_id_caption[primary_specialist][\"assistant_id\"]\n",
    "    state_keys_defaults = {\n",
    "        \"chat_history\": [],\n",
    "        \"user_question\": \"\",\n",
    "        \"json_data\": {},\n",
    "        \"critical_actions\": {},\n",
    "        \"sidebar_state\": 1,\n",
    "        \"assistant_response\": \"\",\n",
    "        \"specialist_input\": \"\",\n",
    "        \"specialist\": primary_specialist,\n",
    "        \"assistant_id\": primary_specialist_id,\n",
    "        \"should_rerun\": False\n",
    "        \n",
    "    }\n",
    "    for key, default in state_keys_defaults.items():\n",
    "        if key not in st.session_state:\n",
    "            st.session_state[key] = default"
   ]
  },
  {
   "cell_type": "code",
   "execution_count": 10,
   "metadata": {},
   "outputs": [],
   "source": [
    "def display_header():\n",
    "    st.set_page_config(page_title=\"DA\", page_icon=\"🫡\")\n",
    "    specialist = st.session_state.specialist\n",
    "    specialist_avatar = specialist_id_caption[st.session_state.specialist][\"avatar\"]\n",
    "    st.markdown(\n",
    "            f\"\"\"\n",
    "            <div style=\"text-align: center;\">\n",
    "                <h1>\n",
    "                    <img src=\"{specialist_avatar}\" alt=\"Avatar\" style=\"width:60px;height:60px;border-radius:50%;\">\n",
    "                    Diana's Assistant\n",
    "                </h1>\n",
    "            </div>\n",
    "            \"\"\", \n",
    "            unsafe_allow_html=True\n",
    "        )\n",
    "        "
   ]
  },
  {
   "cell_type": "code",
   "execution_count": 11,
   "metadata": {},
   "outputs": [],
   "source": [
    "def display_chat_history():\n",
    "    chat_container = st.container()\n",
    "    with chat_container:\n",
    "        for message in st.session_state.chat_history:\n",
    "            avatar_url = message.get(\"avatar\", user_avatar_url)\n",
    "            with st.chat_message(message[\"role\"], avatar=avatar_url):\n",
    "                st.markdown(message[\"content\"], unsafe_allow_html=True)\n"
   ]
  },
  {
   "cell_type": "code",
   "execution_count": 16,
   "metadata": {},
   "outputs": [],
   "source": [
    "def handle_user_input():\n",
    "    user_question = input(\"How may I help you?\")\n",
    "    if user_question is not None and user_question != \"\":\n",
    "        st.session_state.chat_history.append(HumanMessage(user_question, avatar=user_avatar_url))\n",
    "\n",
    "        with st.chat_message(\"Human\"):\n",
    "            print(user_question)\n",
    "        \n",
    "        with st.chat_message(\"AI\"):\n",
    "            ai_response = \"I don't know\"\n",
    "            print(ai_response)\n",
    "   "
   ]
  },
  {
   "cell_type": "code",
   "execution_count": 17,
   "metadata": {},
   "outputs": [],
   "source": [
    "\n",
    "def main():\n",
    "    if \"thread_id\" not in st.session_state:\n",
    "        thread = client.beta.threads.create()\n",
    "        st.session_state.thread_id = thread.id\n",
    "        \n",
    "    initialize_session_state()\n",
    "    display_header()\n",
    "    handle_user_input()\n",
    "    #display_chat_history()\n"
   ]
  },
  {
   "cell_type": "code",
   "execution_count": 18,
   "metadata": {},
   "outputs": [],
   "source": [
    "handle_user_input()"
   ]
  }
 ],
 "metadata": {
  "kernelspec": {
   "display_name": "base",
   "language": "python",
   "name": "python3"
  },
  "language_info": {
   "codemirror_mode": {
    "name": "ipython",
    "version": 3
   },
   "file_extension": ".py",
   "mimetype": "text/x-python",
   "name": "python",
   "nbconvert_exporter": "python",
   "pygments_lexer": "ipython3",
   "version": "3.12.3"
  }
 },
 "nbformat": 4,
 "nbformat_minor": 2
}
